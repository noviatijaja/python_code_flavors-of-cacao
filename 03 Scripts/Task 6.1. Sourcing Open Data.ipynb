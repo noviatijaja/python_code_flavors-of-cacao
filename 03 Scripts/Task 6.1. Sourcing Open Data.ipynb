{
 "cells": [
  {
   "cell_type": "code",
   "execution_count": 3,
   "id": "5adae813-d95c-4fde-929e-66465b93b7de",
   "metadata": {},
   "outputs": [],
   "source": [
    "# Import libraries\n",
    "import pandas as pd\n",
    "import numpy as np\n",
    "import os\n",
    "import matplotlib.pyplot as plt\n",
    "import seaborn as sns\n",
    "import scipy"
   ]
  },
  {
   "cell_type": "code",
   "execution_count": 4,
   "id": "73fde277-cc72-42a6-a189-3b482efe2110",
   "metadata": {},
   "outputs": [],
   "source": [
    "# Define the new path\n",
    "path = r'C:\\Users\\User\\Documents\\Career Foundry\\Data Analytics Immersion\\Data Immersion 6. Advanced Analytics & Dashboard Design'"
   ]
  },
  {
   "cell_type": "code",
   "execution_count": 5,
   "id": "2eacc682-3821-4903-8a87-e66f424b5abc",
   "metadata": {},
   "outputs": [
    {
     "data": {
      "text/html": [
       "<div>\n",
       "<style scoped>\n",
       "    .dataframe tbody tr th:only-of-type {\n",
       "        vertical-align: middle;\n",
       "    }\n",
       "\n",
       "    .dataframe tbody tr th {\n",
       "        vertical-align: top;\n",
       "    }\n",
       "\n",
       "    .dataframe thead th {\n",
       "        text-align: right;\n",
       "    }\n",
       "</style>\n",
       "<table border=\"1\" class=\"dataframe\">\n",
       "  <thead>\n",
       "    <tr style=\"text-align: right;\">\n",
       "      <th></th>\n",
       "      <th>REF</th>\n",
       "      <th>Company (Manufacturer)</th>\n",
       "      <th>Company Location</th>\n",
       "      <th>Review Date</th>\n",
       "      <th>Country of Bean Origin</th>\n",
       "      <th>Specific Bean Origin or Bar Name</th>\n",
       "      <th>Cocoa Percent</th>\n",
       "      <th>Ingredients</th>\n",
       "      <th>Most Memorable Characteristics</th>\n",
       "      <th>Rating</th>\n",
       "    </tr>\n",
       "  </thead>\n",
       "  <tbody>\n",
       "    <tr>\n",
       "      <th>0</th>\n",
       "      <td>5</td>\n",
       "      <td>Jacque Torres</td>\n",
       "      <td>U.S.A.</td>\n",
       "      <td>2006</td>\n",
       "      <td>Ghana</td>\n",
       "      <td>Trinatario Treasure</td>\n",
       "      <td>0.71</td>\n",
       "      <td>5- B,S,C,V,L</td>\n",
       "      <td>gritty, unrefined, off notes</td>\n",
       "      <td>2.00</td>\n",
       "    </tr>\n",
       "    <tr>\n",
       "      <th>1</th>\n",
       "      <td>15</td>\n",
       "      <td>Green &amp; Black's (ICAM)</td>\n",
       "      <td>U.K.</td>\n",
       "      <td>2006</td>\n",
       "      <td>Blend</td>\n",
       "      <td>Dark</td>\n",
       "      <td>0.70</td>\n",
       "      <td>5- B,S,C,V,L</td>\n",
       "      <td>mildly rich, basic, roasty</td>\n",
       "      <td>2.50</td>\n",
       "    </tr>\n",
       "    <tr>\n",
       "      <th>2</th>\n",
       "      <td>15</td>\n",
       "      <td>Guittard</td>\n",
       "      <td>U.S.A.</td>\n",
       "      <td>2006</td>\n",
       "      <td>Colombia</td>\n",
       "      <td>Chucuri</td>\n",
       "      <td>0.65</td>\n",
       "      <td>5- B,S,C,V,L</td>\n",
       "      <td>creamy, sweet, floral, vanilla</td>\n",
       "      <td>3.00</td>\n",
       "    </tr>\n",
       "    <tr>\n",
       "      <th>3</th>\n",
       "      <td>15</td>\n",
       "      <td>Neuhaus (Callebaut)</td>\n",
       "      <td>Belgium</td>\n",
       "      <td>2006</td>\n",
       "      <td>Sao Tome</td>\n",
       "      <td>Sao Tome</td>\n",
       "      <td>0.75</td>\n",
       "      <td>5- B,S,C,V,L</td>\n",
       "      <td>grassy, earthy, burnt</td>\n",
       "      <td>2.75</td>\n",
       "    </tr>\n",
       "    <tr>\n",
       "      <th>4</th>\n",
       "      <td>15</td>\n",
       "      <td>Neuhaus (Callebaut)</td>\n",
       "      <td>Belgium</td>\n",
       "      <td>2006</td>\n",
       "      <td>Blend</td>\n",
       "      <td>West Africa</td>\n",
       "      <td>0.73</td>\n",
       "      <td>5- B,S,C,V,L</td>\n",
       "      <td>non descript, poor aftertaste</td>\n",
       "      <td>2.00</td>\n",
       "    </tr>\n",
       "  </tbody>\n",
       "</table>\n",
       "</div>"
      ],
      "text/plain": [
       "   REF  Company (Manufacturer) Company Location  Review Date  \\\n",
       "0    5           Jacque Torres           U.S.A.         2006   \n",
       "1   15  Green & Black's (ICAM)             U.K.         2006   \n",
       "2   15                Guittard           U.S.A.         2006   \n",
       "3   15     Neuhaus (Callebaut)          Belgium         2006   \n",
       "4   15     Neuhaus (Callebaut)          Belgium         2006   \n",
       "\n",
       "  Country of Bean Origin Specific Bean Origin or Bar Name  Cocoa Percent  \\\n",
       "0                  Ghana              Trinatario Treasure           0.71   \n",
       "1                  Blend                             Dark           0.70   \n",
       "2               Colombia                          Chucuri           0.65   \n",
       "3               Sao Tome                         Sao Tome           0.75   \n",
       "4                  Blend                      West Africa           0.73   \n",
       "\n",
       "    Ingredients  Most Memorable Characteristics  Rating  \n",
       "0  5- B,S,C,V,L    gritty, unrefined, off notes    2.00  \n",
       "1  5- B,S,C,V,L      mildly rich, basic, roasty    2.50  \n",
       "2  5- B,S,C,V,L  creamy, sweet, floral, vanilla    3.00  \n",
       "3  5- B,S,C,V,L           grassy, earthy, burnt    2.75  \n",
       "4  5- B,S,C,V,L   non descript, poor aftertaste    2.00  "
      ]
     },
     "execution_count": 5,
     "metadata": {},
     "output_type": "execute_result"
    }
   ],
   "source": [
    "# Import the excel file\n",
    "df = pd.read_excel(os.path.join(path, '6.1', 'flavors_of_cacao_updated.xlsx'))\n",
    "\n",
    "# Display the first few rows to check\n",
    "df.head()"
   ]
  },
  {
   "cell_type": "code",
   "execution_count": 6,
   "id": "ff890d4d-b326-415c-b4dd-066043b1ce9e",
   "metadata": {},
   "outputs": [
    {
     "name": "stdout",
     "output_type": "stream",
     "text": [
      "<class 'pandas.core.frame.DataFrame'>\n",
      "RangeIndex: 2693 entries, 0 to 2692\n",
      "Data columns (total 10 columns):\n",
      " #   Column                            Non-Null Count  Dtype  \n",
      "---  ------                            --------------  -----  \n",
      " 0   REF                               2693 non-null   int64  \n",
      " 1   Company (Manufacturer)            2693 non-null   object \n",
      " 2   Company Location                  2693 non-null   object \n",
      " 3   Review Date                       2693 non-null   int64  \n",
      " 4   Country of Bean Origin            2693 non-null   object \n",
      " 5   Specific Bean Origin or Bar Name  2693 non-null   object \n",
      " 6   Cocoa Percent                     2693 non-null   float64\n",
      " 7   Ingredients                       2606 non-null   object \n",
      " 8   Most Memorable Characteristics    2693 non-null   object \n",
      " 9   Rating                            2693 non-null   float64\n",
      "dtypes: float64(2), int64(2), object(6)\n",
      "memory usage: 210.5+ KB\n"
     ]
    }
   ],
   "source": [
    "# Check basic information\n",
    "df.info()"
   ]
  },
  {
   "cell_type": "code",
   "execution_count": 7,
   "id": "b12c8411-f930-4c3f-8455-9e84d49de878",
   "metadata": {},
   "outputs": [
    {
     "name": "stdout",
     "output_type": "stream",
     "text": [
      "Index(['REF', 'Company (Manufacturer)', 'Company Location', 'Review Date',\n",
      "       'Country of Bean Origin', 'Specific Bean Origin or Bar Name',\n",
      "       'Cocoa Percent', 'Ingredients', 'Most Memorable Characteristics',\n",
      "       'Rating'],\n",
      "      dtype='object')\n"
     ]
    }
   ],
   "source": [
    "print(df.columns)"
   ]
  },
  {
   "cell_type": "code",
   "execution_count": 8,
   "id": "2ca8b94c-1412-4750-8016-7d79ddea066f",
   "metadata": {},
   "outputs": [],
   "source": [
    "# Remove the bracket in the column names\n",
    "df.columns = df.columns.str.replace(r\"[()]\", \"\", regex=True)"
   ]
  },
  {
   "cell_type": "code",
   "execution_count": 9,
   "id": "e8455689-6e5e-4165-8487-49da21a3f43b",
   "metadata": {},
   "outputs": [
    {
     "name": "stdout",
     "output_type": "stream",
     "text": [
      "Index(['REF', 'Company Manufacturer', 'Company Location', 'Review Date',\n",
      "       'Country of Bean Origin', 'Specific Bean Origin or Bar Name',\n",
      "       'Cocoa Percent', 'Ingredients', 'Most Memorable Characteristics',\n",
      "       'Rating'],\n",
      "      dtype='object')\n"
     ]
    }
   ],
   "source": [
    "print(df.columns)"
   ]
  },
  {
   "cell_type": "code",
   "execution_count": 10,
   "id": "9b45826d-f29d-4381-8a19-290e085a31aa",
   "metadata": {},
   "outputs": [],
   "source": [
    "# Ensure column names are standardized\n",
    "df.columns = df.columns.str.strip().str.lower().str.replace(\" \", \"_\")"
   ]
  },
  {
   "cell_type": "code",
   "execution_count": 11,
   "id": "f3067092-95ac-4301-b1d4-5dd4d1ecbec7",
   "metadata": {},
   "outputs": [],
   "source": [
    "# Rename columns\n",
    "df = df.rename(columns={\n",
    "    \"company_manufacturer\": \"company_name\",\n",
    "    \"specific_bean_origin_or_bar_name\": \"bean_origin_or_bar\",\n",
    "    \"most_memorable_characteristics\": \"memorable_characteristics\"\n",
    "})"
   ]
  },
  {
   "cell_type": "code",
   "execution_count": 12,
   "id": "7ef50419-deb4-44d7-aef7-7699dc85c69d",
   "metadata": {},
   "outputs": [
    {
     "name": "stdout",
     "output_type": "stream",
     "text": [
      "Index(['ref', 'company_name', 'company_location', 'review_date',\n",
      "       'country_of_bean_origin', 'bean_origin_or_bar', 'cocoa_percent',\n",
      "       'ingredients', 'memorable_characteristics', 'rating'],\n",
      "      dtype='object')\n"
     ]
    }
   ],
   "source": [
    "print(df.columns)"
   ]
  },
  {
   "cell_type": "code",
   "execution_count": 13,
   "id": "05dd446f-d5af-49d5-b847-b8a462853875",
   "metadata": {},
   "outputs": [],
   "source": [
    "# Based on the results above, there are 87 missing values in the Ingredients column. Fill these missing values with \"Unknown.\"\n",
    "df['ingredients'] = df['ingredients'].fillna(\"Unknown\")"
   ]
  },
  {
   "cell_type": "code",
   "execution_count": 14,
   "id": "b82610ca-6dd4-4f9f-b01d-0526e63138d8",
   "metadata": {},
   "outputs": [
    {
     "data": {
      "text/plain": [
       "0"
      ]
     },
     "execution_count": 14,
     "metadata": {},
     "output_type": "execute_result"
    }
   ],
   "source": [
    "# Check for the missing values in the ingredients\n",
    "df['ingredients'].isnull().sum()"
   ]
  },
  {
   "cell_type": "code",
   "execution_count": 15,
   "id": "c7715fcb-5fd7-4b09-b260-217b900890d2",
   "metadata": {},
   "outputs": [
    {
     "data": {
      "text/plain": [
       "ingredients\n",
       "3- B,S,C          1100\n",
       "2- B,S             768\n",
       "4- B,S,C,L         296\n",
       "5- B,S,C,V,L       184\n",
       "4- B,S,C,V         141\n",
       "Unknown             87\n",
       "2- B,S*             31\n",
       "4- B,S*,C,Sa        20\n",
       "3- B,S*,C           13\n",
       "3- B,S,L             8\n",
       "4- B,S*,C,V          7\n",
       "1- B                 6\n",
       "5-B,S,C,V,Sa         6\n",
       "4- B,S,C,Sa          5\n",
       "4- B,S,V,L           5\n",
       "6-B,S,C,V,L,Sa       4\n",
       "4- B,S*,V,L          3\n",
       "3- B,S,V             3\n",
       "4- B,S*,C,L          2\n",
       "2- B,C               1\n",
       "5- B,S,C,L,Sa        1\n",
       "3- B,S*,Sa           1\n",
       "3- B,S, L            1\n",
       "Name: count, dtype: int64"
      ]
     },
     "execution_count": 15,
     "metadata": {},
     "output_type": "execute_result"
    }
   ],
   "source": [
    "# Check if \"Unkown\" filled properly\n",
    "df['ingredients'].value_counts()"
   ]
  },
  {
   "cell_type": "code",
   "execution_count": 16,
   "id": "6c682834-286e-46ae-ae5a-a2f4a4f4436a",
   "metadata": {},
   "outputs": [],
   "source": [
    "# Remove periods from country names\n",
    "df['company_location'] = df['company_location'].astype(str).str.replace('.', '', regex=True).str.strip()\n",
    "df['country_of_bean_origin'] = df['country_of_bean_origin'].astype(str).str.replace('.', '', regex=True).str.strip()"
   ]
  },
  {
   "cell_type": "code",
   "execution_count": 17,
   "id": "e4934b71-e7e4-4047-bbb1-1b9d3faf78b3",
   "metadata": {},
   "outputs": [
    {
     "name": "stdout",
     "output_type": "stream",
     "text": [
      "  company_location country_of_bean_origin\n",
      "0                                        \n",
      "1                                        \n",
      "2                                        \n",
      "3                                        \n",
      "4                                        \n",
      "5                                        \n",
      "6                                        \n",
      "7                                        \n",
      "8                                        \n",
      "9                                        \n"
     ]
    }
   ],
   "source": [
    "# Check the result\n",
    "print(df[['company_location', 'country_of_bean_origin']].head(10))"
   ]
  },
  {
   "cell_type": "code",
   "execution_count": 18,
   "id": "0cc8de90-bee1-4c9f-9b67-430e5ab5f0b0",
   "metadata": {},
   "outputs": [],
   "source": [
    "# Reload only the original company_location and country_of_bean_origin columns\n",
    "df_original = pd.read_excel(os.path.join(path, '6.1', 'flavors_of_cacao_updated.xlsx'), usecols=['Company Location', 'Country of Bean Origin'])\n",
    "\n",
    "# Restore the columns\n",
    "df['company_location'] = df_original['Company Location']\n",
    "df['country_of_bean_origin'] = df_original['Country of Bean Origin']"
   ]
  },
  {
   "cell_type": "code",
   "execution_count": 19,
   "id": "cc8e5e32-3ea8-4dd3-973a-6d13b29c19f4",
   "metadata": {},
   "outputs": [],
   "source": [
    "# Try to remove the periods again\n",
    "df['company_location'] = df['company_location'].astype(str).str.replace(r'\\.', '', regex=True).str.strip()\n",
    "df['country_of_bean_origin'] = df['country_of_bean_origin'].astype(str).str.replace(r'\\.', '', regex=True).str.strip()"
   ]
  },
  {
   "cell_type": "code",
   "execution_count": 20,
   "id": "5be2aa93-bc60-48a7-b107-e8b0b71f9729",
   "metadata": {},
   "outputs": [
    {
     "name": "stdout",
     "output_type": "stream",
     "text": [
      "  company_location country_of_bean_origin\n",
      "0              USA                  Ghana\n",
      "1               UK                  Blend\n",
      "2              USA               Colombia\n",
      "3          Belgium               Sao Tome\n",
      "4          Belgium                  Blend\n",
      "5              USA                  Blend\n",
      "6              USA                  Blend\n",
      "7           France                  Blend\n",
      "8           France     Dominican Republic\n",
      "9           France             Madagascar\n",
      "['USA' 'UK' 'Belgium' 'France' 'Venezuela' 'Colombia' 'Switzerland'\n",
      " 'Italy' 'Spain' 'Ecuador' 'Germany' 'Madagascar' 'Sao Tome & Principe'\n",
      " 'Grenada' 'Bolivia' 'Argentina' 'Mexico' 'Canada' 'Guatemala' 'Israel'\n",
      " 'Austria' 'Peru' 'Brazil' 'Denmark' 'Nicaragua' 'Ghana' 'Australia'\n",
      " 'Fiji' 'Hungary' 'New Zealand' 'Vietnam' 'Costa Rica' 'Lithuania'\n",
      " 'Poland' 'Scotland' 'Wales' 'Puerto Rico' 'Dominican Republic'\n",
      " 'Philippines' 'St Lucia' 'Martinique' 'Ireland' 'Finland' 'Iceland'\n",
      " 'Sweden' 'South Africa' 'Honduras' 'Japan' 'Netherlands' 'Czech Republic'\n",
      " 'Russia' 'Chile' 'South Korea' 'Portugal' 'Singapore' 'India' 'Suriname'\n",
      " 'UAE' 'Taiwan' 'Norway' 'Thailand' 'StVincent-Grenadines' 'Malaysia'\n",
      " 'El Salvador' 'Vanuatu' 'Nicaraqua' 'Estonia' 'China']\n",
      "['Ghana' 'Blend' 'Colombia' 'Sao Tome' 'Dominican Republic' 'Madagascar'\n",
      " 'Papua New Guinea' 'Venezuela' 'USA' 'Jamaica' 'Vanuatu' 'Ecuador'\n",
      " 'Bolivia' 'Trinidad' 'Sri Lanka' 'Mexico' 'Peru' 'Indonesia' 'Cuba'\n",
      " 'Brazil' 'Grenada' 'Costa Rica' 'Ivory Coast' 'Panama' 'St Lucia'\n",
      " 'Nicaragua' 'Tanzania' 'Uganda' 'Congo' 'Philippines' 'Guatemala'\n",
      " 'Vietnam' 'Nigeria' 'Belize' 'Honduras' 'Haiti' 'Fiji' 'India' 'Principe'\n",
      " 'Australia' 'Tobago' 'Liberia' 'Burma' 'Gabon' 'Puerto Rico' 'Martinique'\n",
      " 'El Salvador' 'Cameroon' 'Togo' 'Malaysia' 'Solomon Islands' 'Samoa'\n",
      " 'Suriname' 'Sulawesi' 'Taiwan' 'Sierra Leone' 'Sumatra' 'Thailand'\n",
      " 'DR Congo' 'StVincent-Grenadines' 'Sao Tome & Principe' 'China' 'Bali'\n",
      " 'France (Reunion)']\n"
     ]
    }
   ],
   "source": [
    "# Check again\n",
    "print(df[['company_location', 'country_of_bean_origin']].head(10))\n",
    "print(df['company_location'].unique())  # Check unique country names\n",
    "print(df['country_of_bean_origin'].unique())  # Ensure periods are gone"
   ]
  },
  {
   "cell_type": "code",
   "execution_count": 21,
   "id": "93812f96-2e12-49f2-a2b8-5445f76d5930",
   "metadata": {},
   "outputs": [],
   "source": [
    "# Replace non-country values\n",
    "df['country_of_bean_origin'] = df['country_of_bean_origin'].replace({\n",
    "    'Blend': 'Multiple Countries',\n",
    "    'Sulawesi': 'Indonesia',\n",
    "    'Sumatra': 'Indonesia',\n",
    "    'Bali': 'Indonesia',\n",
    "    'Principe': 'Sao Tome & Principe',\n",
    "    'Tobago': 'Trinidad & Tobago',\n",
    "    'France (Reunion)': 'Reunion'\n",
    "})"
   ]
  },
  {
   "cell_type": "code",
   "execution_count": 22,
   "id": "30c011d5-7527-4164-aee0-b93876b70516",
   "metadata": {},
   "outputs": [
    {
     "name": "stdout",
     "output_type": "stream",
     "text": [
      "['Ghana' 'Multiple Countries' 'Colombia' 'Sao Tome' 'Dominican Republic'\n",
      " 'Madagascar' 'Papua New Guinea' 'Venezuela' 'USA' 'Jamaica' 'Vanuatu'\n",
      " 'Ecuador' 'Bolivia' 'Trinidad' 'Sri Lanka' 'Mexico' 'Peru' 'Indonesia'\n",
      " 'Cuba' 'Brazil' 'Grenada' 'Costa Rica' 'Ivory Coast' 'Panama' 'St Lucia'\n",
      " 'Nicaragua' 'Tanzania' 'Uganda' 'Congo' 'Philippines' 'Guatemala'\n",
      " 'Vietnam' 'Nigeria' 'Belize' 'Honduras' 'Haiti' 'Fiji' 'India'\n",
      " 'Sao Tome & Principe' 'Australia' 'Trinidad & Tobago' 'Liberia' 'Burma'\n",
      " 'Gabon' 'Puerto Rico' 'Martinique' 'El Salvador' 'Cameroon' 'Togo'\n",
      " 'Malaysia' 'Solomon Islands' 'Samoa' 'Suriname' 'Taiwan' 'Sierra Leone'\n",
      " 'Thailand' 'DR Congo' 'StVincent-Grenadines' 'China' 'Reunion']\n"
     ]
    }
   ],
   "source": [
    "# Verify the fix\n",
    "print(df['country_of_bean_origin'].unique())"
   ]
  },
  {
   "cell_type": "code",
   "execution_count": 23,
   "id": "c3abbb24-d787-4ce8-8701-b2e773d6ec60",
   "metadata": {},
   "outputs": [
    {
     "name": "stdout",
     "output_type": "stream",
     "text": [
      "ref                            int64\n",
      "company_name                  object\n",
      "company_location              object\n",
      "review_date                    int64\n",
      "country_of_bean_origin        object\n",
      "bean_origin_or_bar            object\n",
      "cocoa_percent                float64\n",
      "ingredients                   object\n",
      "memorable_characteristics     object\n",
      "rating                       float64\n",
      "dtype: object\n"
     ]
    }
   ],
   "source": [
    "# Check data types\n",
    "print(df.dtypes)"
   ]
  },
  {
   "cell_type": "code",
   "execution_count": 24,
   "id": "54a858c3-a5aa-442d-b97e-cc4a333f2a96",
   "metadata": {},
   "outputs": [],
   "source": [
    "# Convert review_date into datetime64\n",
    "df['review_date'] = pd.to_datetime(df['review_date'], format='%Y')"
   ]
  },
  {
   "cell_type": "code",
   "execution_count": 25,
   "id": "34e0ad0c-a3d1-4c84-b6f1-6d3db9473ff7",
   "metadata": {},
   "outputs": [
    {
     "data": {
      "text/plain": [
       "0"
      ]
     },
     "execution_count": 25,
     "metadata": {},
     "output_type": "execute_result"
    }
   ],
   "source": [
    "# Check for duplicates\n",
    "df.duplicated().sum()"
   ]
  },
  {
   "cell_type": "code",
   "execution_count": 26,
   "id": "ca8f3d9b-449d-47e3-bf08-6eb480e1e3a8",
   "metadata": {
    "scrolled": true
   },
   "outputs": [
    {
     "data": {
      "text/html": [
       "<div>\n",
       "<style scoped>\n",
       "    .dataframe tbody tr th:only-of-type {\n",
       "        vertical-align: middle;\n",
       "    }\n",
       "\n",
       "    .dataframe tbody tr th {\n",
       "        vertical-align: top;\n",
       "    }\n",
       "\n",
       "    .dataframe thead th {\n",
       "        text-align: right;\n",
       "    }\n",
       "</style>\n",
       "<table border=\"1\" class=\"dataframe\">\n",
       "  <thead>\n",
       "    <tr style=\"text-align: right;\">\n",
       "      <th></th>\n",
       "      <th>ref</th>\n",
       "      <th>review_date</th>\n",
       "      <th>cocoa_percent</th>\n",
       "      <th>rating</th>\n",
       "    </tr>\n",
       "  </thead>\n",
       "  <tbody>\n",
       "    <tr>\n",
       "      <th>count</th>\n",
       "      <td>2693.000000</td>\n",
       "      <td>2693</td>\n",
       "      <td>2693.000000</td>\n",
       "      <td>2693.000000</td>\n",
       "    </tr>\n",
       "    <tr>\n",
       "      <th>mean</th>\n",
       "      <td>1514.082807</td>\n",
       "      <td>2014-11-15 01:26:37.474935040</td>\n",
       "      <td>0.715964</td>\n",
       "      <td>3.197828</td>\n",
       "    </tr>\n",
       "    <tr>\n",
       "      <th>min</th>\n",
       "      <td>5.000000</td>\n",
       "      <td>2006-01-01 00:00:00</td>\n",
       "      <td>0.420000</td>\n",
       "      <td>1.000000</td>\n",
       "    </tr>\n",
       "    <tr>\n",
       "      <th>25%</th>\n",
       "      <td>849.000000</td>\n",
       "      <td>2012-01-01 00:00:00</td>\n",
       "      <td>0.700000</td>\n",
       "      <td>3.000000</td>\n",
       "    </tr>\n",
       "    <tr>\n",
       "      <th>50%</th>\n",
       "      <td>1526.000000</td>\n",
       "      <td>2015-01-01 00:00:00</td>\n",
       "      <td>0.700000</td>\n",
       "      <td>3.250000</td>\n",
       "    </tr>\n",
       "    <tr>\n",
       "      <th>75%</th>\n",
       "      <td>2202.000000</td>\n",
       "      <td>2018-01-01 00:00:00</td>\n",
       "      <td>0.740000</td>\n",
       "      <td>3.500000</td>\n",
       "    </tr>\n",
       "    <tr>\n",
       "      <th>max</th>\n",
       "      <td>2876.000000</td>\n",
       "      <td>2023-01-01 00:00:00</td>\n",
       "      <td>1.000000</td>\n",
       "      <td>4.000000</td>\n",
       "    </tr>\n",
       "    <tr>\n",
       "      <th>std</th>\n",
       "      <td>804.025376</td>\n",
       "      <td>NaN</td>\n",
       "      <td>0.055130</td>\n",
       "      <td>0.440790</td>\n",
       "    </tr>\n",
       "  </tbody>\n",
       "</table>\n",
       "</div>"
      ],
      "text/plain": [
       "               ref                    review_date  cocoa_percent       rating\n",
       "count  2693.000000                           2693    2693.000000  2693.000000\n",
       "mean   1514.082807  2014-11-15 01:26:37.474935040       0.715964     3.197828\n",
       "min       5.000000            2006-01-01 00:00:00       0.420000     1.000000\n",
       "25%     849.000000            2012-01-01 00:00:00       0.700000     3.000000\n",
       "50%    1526.000000            2015-01-01 00:00:00       0.700000     3.250000\n",
       "75%    2202.000000            2018-01-01 00:00:00       0.740000     3.500000\n",
       "max    2876.000000            2023-01-01 00:00:00       1.000000     4.000000\n",
       "std     804.025376                            NaN       0.055130     0.440790"
      ]
     },
     "execution_count": 26,
     "metadata": {},
     "output_type": "execute_result"
    }
   ],
   "source": [
    "# Basic descriptive analysis\n",
    "df.describe()"
   ]
  },
  {
   "cell_type": "code",
   "execution_count": 27,
   "id": "94670d9b-e50d-4eeb-a8c3-6e17d527edcb",
   "metadata": {
    "scrolled": true
   },
   "outputs": [
    {
     "data": {
      "image/png": "[encoded data removed]",
      "text/plain": [
       "<Figure size 640x480 with 1 Axes>"
      ]
     },
     "metadata": {},
     "output_type": "display_data"
    }
   ],
   "source": [
    "# Create histogram for rating column\n",
    "plt.hist(df['rating'], bins=10, color='blue', edgecolor='black')\n",
    "plt.xlabel(\"Rating\")\n",
    "plt.ylabel(\"Frequency\")\n",
    "plt.title(\"Distribution of Chocolate Ratings\")\n",
    "plt.show\n",
    "# Save the figure\n",
    "plt.savefig(\"chocolate_ratings_histogram.png\", dpi=300, bbox_inches='tight')\n",
    "\n",
    "# Show the figure\n",
    "plt.show()"
   ]
  },
  {
   "cell_type": "code",
   "execution_count": 28,
   "id": "b7b403c0-c04a-4d3f-b097-582e8a9d9a81",
   "metadata": {},
   "outputs": [],
   "source": [
    "# Export the cleaned file\n",
    "df.to_excel(os.path.join(path, '6.2', 'flavors_of_cacao_cleaned.xlsx'), index=False)"
   ]
  }
 ],
 "metadata": {
  "kernelspec": {
   "display_name": "Python 3 (ipykernel)",
   "language": "python",
   "name": "python3"
  },
  "language_info": {
   "codemirror_mode": {
    "name": "ipython",
    "version": 3
   },
   "file_extension": ".py",
   "mimetype": "text/x-python",
   "name": "python",
   "nbconvert_exporter": "python",
   "pygments_lexer": "ipython3",
   "version": "3.12.4"
  }
 },
 "nbformat": 4,
 "nbformat_minor": 5
}
